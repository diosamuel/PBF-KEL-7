{
  "nbformat": 4,
  "nbformat_minor": 0,
  "metadata": {
    "colab": {
      "provenance": [],
      "include_colab_link": true
    },
    "kernelspec": {
      "name": "python3",
      "display_name": "Python 3"
    },
    "language_info": {
      "name": "python"
    }
  },
  "cells": [
    {
      "cell_type": "markdown",
      "metadata": {
        "id": "view-in-github",
        "colab_type": "text"
      },
      "source": [
        "<a href=\"https://colab.research.google.com/github/renishapg/PBF-KEL-7/blob/main/TugasKelompokModul1.ipynb\" target=\"_parent\"><img src=\"https://colab.research.google.com/assets/colab-badge.svg\" alt=\"Open In Colab\"/></a>"
      ]
    },
    {
      "cell_type": "markdown",
      "source": [
        "## Tugas Praktikum Kelompok 7"
      ],
      "metadata": {
        "id": "EBkX-B3-LGyJ"
      }
    },
    {
      "cell_type": "markdown",
      "source": [
        "# KELOMPOK 7\n",
        "1. Tessa Kania Sagala 122450040 [2]\n",
        "2. Renisha Putri Giani 122450079 [1]\n",
        "3. Rian Bintang Wijaya 122450094 [4]\n",
        "4. Gymnastiar Al Khoarizmy 122450096 [3]\n",
        "5. Virdio Samuel Saragih 122450124 [5]"
      ],
      "metadata": {
        "id": "n7e3QrNBPm17"
      }
    },
    {
      "cell_type": "markdown",
      "source": [
        "# Nomor 1"
      ],
      "metadata": {
        "id": "NH_XTMfxLdOX"
      }
    },
    {
      "cell_type": "code",
      "source": [
        "def f(x):\n",
        "  return 4 * x\n",
        "def g(x):\n",
        "  return x * x\n",
        "def h(x):\n",
        "  return 3+x\n",
        "\n",
        "h(g(f(4))) # merupakan pemanggilan fungi komposisi.\n",
        "\n",
        "# fungsi f(x) akan dipanggil dengan argumen x = 4\n",
        "# kemudian hasil dari f(4) akan menjadi argumen untuk fungsi g(x), sehingga g(f(4)) akan menjadi g=(16)\n",
        "# dan yang terakhir hasil dari g(f(4)) akan menjadi argumen h(x), sehingga h(g(f(4))) = h(256)\n",
        "# kemudian output dari kode diatas adalah 259, yang mana hasil dari h(256) adalah 3 + 256 = 259"
      ],
      "metadata": {
        "id": "QYltE9LObTQK",
        "colab": {
          "base_uri": "https://localhost:8080/"
        },
        "outputId": "a690238b-822f-45cc-d6f5-2eefbac6e895"
      },
      "execution_count": 12,
      "outputs": [
        {
          "output_type": "execute_result",
          "data": {
            "text/plain": [
              "259"
            ]
          },
          "metadata": {},
          "execution_count": 12
        }
      ]
    },
    {
      "cell_type": "markdown",
      "source": [
        "# Nomor 2"
      ],
      "metadata": {
        "id": "p0JJX0bDLZxN"
      }
    },
    {
      "cell_type": "code",
      "source": [],
      "metadata": {
        "id": "-1k3n65AbSCe"
      },
      "execution_count": null,
      "outputs": []
    },
    {
      "cell_type": "markdown",
      "source": [
        "# Nomor 3"
      ],
      "metadata": {
        "id": "mOIS0xpiLbr5"
      }
    },
    {
      "cell_type": "markdown",
      "source": [
        "Analisis Komparasi Soal 1 dan 2:\n",
        "1. Kode pertama menggunakan pendekatan konvensional dalam pemrograman fungsional. Setiap fungsi f, g, dan h menerima argumen dan mengembalikan hasil pemrosesan. Kemudian, fungsi-fungsi ini digunakan secara bertahap dalam komposisi, di mana output dari satu fungsi menjadi input untuk fungsi berikutnya. Kode ini lebih langsung dan mudah dimengerti bagi orang yang terbiasa dengan pemrograman fungsional. Penggunaan fungsi biasa memungkinkan kode menjadi lebih ringkas dan mudah dibaca.\n",
        "2. Kode kedua menggunakan pendekatan berbasis objek dan mengimplementasikan apa yang dikenal sebagai \"continuation passing style\" atau CPS. Dalam pendekatan ini, setiap fungsi f, g, dan h dibungkus dalam objek Value, yang memiliki metode `__rshift__` untuk mengevaluasi fungsi tersebut dengan menggunakan nilai yang disimpan dalam objek Value. Dengan menggunakan operator >>, kita meneruskan hasil dari satu fungsi ke fungsi berikutnya, dan akhirnya mendapatkan hasil akhir dari komposisi tersebut. Kode ini menggunakan konsep pemrograman berbasis objek dan CPS, yang mungkin agak tidak biasa bagi mereka yang tidak terbiasa dengan paradigma tersebut. Namun, pendekatan ini dapat membawa fleksibilitas tambahan dan memungkinkan teknik-teknik seperti pemrograman dinamis dan modularitas yang lebih besar"
      ],
      "metadata": {
        "id": "bozaYapAcrs7"
      }
    },
    {
      "cell_type": "markdown",
      "source": [
        "# Nomor 4"
      ],
      "metadata": {
        "id": "lRajg5OPS9t-"
      }
    },
    {
      "cell_type": "code",
      "source": [
        "#Pemrograman Berbasis Objk\n",
        "import time      #Import function time untuk mengetahui waktu eksekusi\n",
        "st = time.time() #fungsi st untuk waktu eksekusi\n",
        "class Sides: #Buat class\n",
        "  def __init__(self,a, b, c): #inisialisasi a,b,c\n",
        "    self.a = a\n",
        "    self.b = b\n",
        "    self.c = c\n",
        "\n",
        "class A(Sides): #Buat subclass inheritage dari class Sides\n",
        "  def area(self): #Buat fungsi untuk rumus luas\n",
        "    s = (self.a * self.b * self.c)/2  #variabel s sebagai rumus luas segitiga\n",
        "    return s\n",
        "\n",
        "t = A(2,3,4)  #memasukkan nilai a, b dan c untuk penghitungan luas\n",
        "print(\"area of Triangle : {}\".format(t.area())) #memanggil luas segitiga\n",
        "\n",
        "et = time.time()\n",
        "elapsed_time = et - st  #rumus perhitungan waktu eksekusi\n",
        "print('Execution time:', elapsed_time, 'seconds') #Mengoutputkan lama waktu eksekusi"
      ],
      "metadata": {
        "colab": {
          "base_uri": "https://localhost:8080/"
        },
        "id": "rKppFkZtFjzj",
        "outputId": "d832a19a-23d2-4e40-f4a5-76a48bbd7d0a"
      },
      "execution_count": null,
      "outputs": [
        {
          "output_type": "stream",
          "name": "stdout",
          "text": [
            "area of Triangle : 12.0\n",
            "Execution time: 0.0017404556274414062 seconds\n"
          ]
        }
      ]
    },
    {
      "cell_type": "code",
      "source": [
        "#Pemrograman Berbasis Fungsi\n",
        "import time       #Import function time untuk mengetahui waktu eksekusi\n",
        "st = time.time()  #fungsi st untuk waktu eksekusi\n",
        "sg = lambda a,b,c: (a*b*c)/2  #Rumus lamda untuk penghitungan luas segitiga\n",
        "\n",
        "print(f\"area of Triangle : {sg(2,3,4)}\")  #memanggil luas segitiga\n",
        "et = time.time()\n",
        "elapsed_time = et - st  #rumus perhitungan waktu eksekusi\n",
        "print('Execution time:', elapsed_time, 'seconds') #Mengoutputkan lama waktu eksekusi"
      ],
      "metadata": {
        "colab": {
          "base_uri": "https://localhost:8080/"
        },
        "id": "BQKLY8V9GUv-",
        "outputId": "b11f260e-f953-4d62-e5ad-60899a8b68e3"
      },
      "execution_count": null,
      "outputs": [
        {
          "output_type": "stream",
          "name": "stdout",
          "text": [
            "area of Triangle : 12.0\n",
            "Execution time: 0.0008156299591064453 seconds\n"
          ]
        }
      ]
    },
    {
      "cell_type": "markdown",
      "source": [
        "Setelah membuat perhitungan luas segitiga dengan menggunakan Pemrograman Berbasis Fungsi dan Pemrograman Berbasis Objek, kita dapat melihat perbedaan pada waktu eksekusinya yang mana PBF dengan rumus lamda menghasilkan waktu lebih cepat yakni 0,0008 sekon ketimbang dari PBO yang lebih lama yakni 0,001 sekon"
      ],
      "metadata": {
        "id": "EszSHjMvO52Y"
      }
    },
    {
      "cell_type": "code",
      "source": [],
      "metadata": {
        "id": "mXWxCxnqSEgv"
      },
      "execution_count": null,
      "outputs": []
    },
    {
      "cell_type": "markdown",
      "source": [
        "# Nomor 5"
      ],
      "metadata": {
        "id": "Rvl-9rBcLe-s"
      }
    },
    {
      "cell_type": "code",
      "source": [],
      "metadata": {
        "id": "O9g8CbSXLgNW"
      },
      "execution_count": null,
      "outputs": []
    }
  ]
}